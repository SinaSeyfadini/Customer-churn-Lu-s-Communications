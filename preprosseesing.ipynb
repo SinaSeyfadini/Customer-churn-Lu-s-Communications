{
 "cells": [
  {
   "cell_type": "code",
   "execution_count": 1,
   "id": "fefd91b4",
   "metadata": {},
   "outputs": [
    {
     "name": "stdout",
     "output_type": "stream",
     "text": [
      "Number of 'Unknown' values in 'dependents': 2277\n",
      "    Unnamed: 0 customer_id  gender            location  partner dependents  \\\n",
      "1            1       D9048    Male  Greater Manchester        1          1   \n",
      "3            3       H3533    Male      Greater London        1          1   \n",
      "4            4       J4501    Male      Greater London        0          0   \n",
      "6            6       D1463  Female               Essex        1          0   \n",
      "10          10       I9119    Male           Hampshire        0          1   \n",
      "\n",
      "    senior  Tenure monthly_cost  package survey      Class  \n",
      "1        0    21.0          NaN        4      6   Churn=No  \n",
      "3        1    11.0          NaN        2      4   Churn=No  \n",
      "4        0     7.0          NaN        4      2  Churn=Yes  \n",
      "6        0    16.0          NaN        4      8   Churn=No  \n",
      "10       0    19.0          NaN        1      8   Churn=No  \n"
     ]
    }
   ],
   "source": [
    "import pandas as pd\n",
    "\n",
    "# Replace 'Group 2.csv' with the actual path to your CSV file\n",
    "csv_file_path = 'Group 2.csv'\n",
    "\n",
    "# Read the CSV file\n",
    "df = pd.read_csv(csv_file_path)\n",
    "\n",
    "# Count occurrences of \"Unknown\" in the 'dependents' column\n",
    "unknown_count = df[df['dependents'] == 'Unknown'].shape[0]\n",
    "print(f\"Number of 'Unknown' values in 'dependents': {unknown_count}\")\n",
    "\n",
    "# Drop rows with 'Unknown' in the 'dependents' column\n",
    "df = df[df['dependents'] != 'Unknown']\n",
    "\n",
    "# Display the first few rows of the modified dataframe\n",
    "print(df.head())\n"
   ]
  },
  {
   "cell_type": "code",
   "execution_count": 73,
   "id": "5e6651d8",
   "metadata": {},
   "outputs": [
    {
     "name": "stdout",
     "output_type": "stream",
     "text": [
      "   Unnamed: 0 customer_id  gender            location  partner dependents  \\\n",
      "0           0       K3713    Male           Hampshire        0    Unknown   \n",
      "1           1       D9048    Male  Greater Manchester        1          1   \n",
      "2           2       K8227  Female      West Yorkshire        0    Unknown   \n",
      "3           3       H3533    Male      Greater London        1          1   \n",
      "4           4       J4501    Male      Greater London        0          0   \n",
      "\n",
      "   senior  Tenure monthly_cost  package survey      Class  \n",
      "0       0    12.0          NaN        1      6   Churn=No  \n",
      "1       0    21.0          NaN        4      6   Churn=No  \n",
      "2       0     0.0          NaN        1      4  Churn=Yes  \n",
      "3       1    11.0          NaN        2      4   Churn=No  \n",
      "4       0     7.0          NaN        4      2  Churn=Yes  \n"
     ]
    }
   ],
   "source": [
    "import pandas as pd\n",
    "\n",
    "# Replace 'Group 2.csv' with the actual path to your CSV file\n",
    "csv_file_path = 'Group 2.csv'\n",
    "\n",
    "# Read the CSV file\n",
    "df = pd.read_csv(csv_file_path)\n",
    "\n",
    "# Convert 'Tenure' column to numeric (some cells may contain non-integer values)\n",
    "df['Tenure'] = pd.to_numeric(df['Tenure'], errors='coerce')\n",
    "\n",
    "# Remove rows with 'Tenure' values smaller than 0 or greater than 25\n",
    "df = df[(df['Tenure'] >= 0) & (df['Tenure'] <= 25)]\n",
    "\n",
    "# Display the first few rows of the modified dataframe\n",
    "print(df.head())\n"
   ]
  },
  {
   "cell_type": "code",
   "execution_count": 74,
   "id": "a25056d2",
   "metadata": {},
   "outputs": [
    {
     "data": {
      "text/plain": [
       "91     24.0\n",
       "92      2.0\n",
       "93      7.0\n",
       "95     18.0\n",
       "96      1.0\n",
       "97     10.0\n",
       "98      0.0\n",
       "99      1.0\n",
       "100     2.0\n",
       "101     7.0\n",
       "Name: Tenure, dtype: float64"
      ]
     },
     "execution_count": 74,
     "metadata": {},
     "output_type": "execute_result"
    }
   ],
   "source": [
    "df['Tenure'][90:100]"
   ]
  },
  {
   "cell_type": "code",
   "execution_count": 75,
   "id": "2d8ef1ad",
   "metadata": {},
   "outputs": [
    {
     "name": "stdout",
     "output_type": "stream",
     "text": [
      "   Unnamed: 0 customer_id  gender            location  partner dependents  \\\n",
      "0           0       K3713    Male           Hampshire        0    Unknown   \n",
      "1           1       D9048    Male  Greater Manchester        1          1   \n",
      "2           2       K8227  Female      West Yorkshire        0    Unknown   \n",
      "3           3       H3533    Male      Greater London        1          1   \n",
      "4           4       J4501    Male      Greater London        0          0   \n",
      "\n",
      "   senior  Tenure monthly_cost  package survey      Class  \n",
      "0       0    12.0          NaN        1      6   Churn=No  \n",
      "1       0    21.0          NaN        4      6   Churn=No  \n",
      "2       0     0.0          NaN        1      4  Churn=Yes  \n",
      "3       1    11.0          NaN        2      4   Churn=No  \n",
      "4       0     7.0          NaN        4      2  Churn=Yes  \n"
     ]
    }
   ],
   "source": [
    "import pandas as pd\n",
    "\n",
    "# Replace 'Group 2.csv' with the actual path to your CSV file\n",
    "csv_file_path = 'Group 2.csv'\n",
    "\n",
    "# Read the CSV file\n",
    "df = pd.read_csv(csv_file_path)\n",
    "\n",
    "# Drop rows with 'survey' column containing 'No reply'\n",
    "df = df[df['survey'] != 'No reply']\n",
    "\n",
    "# Display the first few rows of the modified dataframe\n",
    "print(df.head())\n"
   ]
  },
  {
   "cell_type": "code",
   "execution_count": 76,
   "id": "7f81b778",
   "metadata": {},
   "outputs": [
    {
     "data": {
      "text/plain": [
       "20    3\n",
       "21    7\n",
       "23    8\n",
       "24    6\n",
       "25    9\n",
       "26    5\n",
       "Name: survey, dtype: object"
      ]
     },
     "execution_count": 76,
     "metadata": {},
     "output_type": "execute_result"
    }
   ],
   "source": [
    "df['survey'][20:26]"
   ]
  },
  {
   "cell_type": "code",
   "execution_count": 77,
   "id": "085c03d5",
   "metadata": {},
   "outputs": [
    {
     "name": "stdout",
     "output_type": "stream",
     "text": [
      "    Unnamed: 0 customer_id  gender            location  partner dependents  \\\n",
      "1            1       D9048    Male  Greater Manchester        1          1   \n",
      "3            3       H3533    Male      Greater London        1          1   \n",
      "4            4       J4501    Male      Greater London        0          0   \n",
      "6            6       D1463  Female               Essex        1          0   \n",
      "10          10       I9119    Male           Hampshire        0          1   \n",
      "\n",
      "    senior  Tenure  package survey  \n",
      "1        0    21.0        4      6  \n",
      "3        1    11.0        2      4  \n",
      "4        0     7.0        4      2  \n",
      "6        0    16.0        4      8  \n",
      "10       0    19.0        1      8  \n"
     ]
    }
   ],
   "source": [
    "import pandas as pd\n",
    "\n",
    "# Replace 'Group 2.csv' with the actual path to your CSV file\n",
    "csv_file_path = 'Group 2.csv'\n",
    "\n",
    "# Read the CSV file\n",
    "df = pd.read_csv(csv_file_path)\n",
    "\n",
    "# Drop rows with 'dependents' containing 'Unknown'\n",
    "df = df[df['dependents'] != 'Unknown']\n",
    "\n",
    "# Convert 'Tenure' column to numeric and remove rows with values smaller than 0 or greater than 25\n",
    "df['Tenure'] = pd.to_numeric(df['Tenure'], errors='coerce')\n",
    "df = df[(df['Tenure'] >= 0) & (df['Tenure'] <= 25)]\n",
    "\n",
    "# Drop rows with 'survey' column containing 'No reply'\n",
    "df = df[df['survey'] != 'No reply']\n",
    "\n",
    "# Drop the 'Class' and 'monthly_cost' columns\n",
    "columns_to_drop = ['Class', 'monthly_cost']\n",
    "df = df.drop(columns=columns_to_drop, axis=1)\n",
    "\n",
    "# Display the first few rows of the modified dataframe\n",
    "print(df.head())\n"
   ]
  },
  {
   "cell_type": "code",
   "execution_count": 78,
   "id": "6cfe40a7",
   "metadata": {},
   "outputs": [
    {
     "name": "stdout",
     "output_type": "stream",
     "text": [
      "Modified dataframe saved as modified_group_data_PP.csv\n"
     ]
    }
   ],
   "source": [
    "# Replace 'modified_group_data.csv' with the desired name for the new CSV file\n",
    "output_csv_path = 'modified_group_data_PP.csv'\n",
    "\n",
    "# Save the modified dataframe as a new CSV file\n",
    "data.to_csv(output_csv_path, index=False)\n",
    "\n",
    "print(f\"Modified dataframe saved as {output_csv_path}\")\n"
   ]
  },
  {
   "cell_type": "markdown",
   "id": "6e5897d2",
   "metadata": {},
   "source": [
    "\\bold{X}"
   ]
  },
  {
   "cell_type": "code",
   "execution_count": 98,
   "id": "55c707ac",
   "metadata": {},
   "outputs": [
    {
     "data": {
      "image/png": "[encoded data removed]",
      "text/plain": [
       "<Figure size 1000x800 with 2 Axes>"
      ]
     },
     "metadata": {},
     "output_type": "display_data"
    }
   ],
   "source": [
    "import pandas as pd\n",
    "import seaborn as sns\n",
    "import matplotlib.pyplot as plt\n",
    "\n",
    "# Load your dataset (replace 'Group 2.csv' with your actual file path)\n",
    "data = pd.read_csv('modified_group_data.csv')\n",
    "\n",
    "# Encode 'gender' into numerical values\n",
    "data['gender_encoded'] = data['gender'].apply(lambda x: 0 if x == 'Male' else 1)\n",
    "\n",
    "# Encode 'location' into numerical values\n",
    "location_mapping = {location: index + 1 for index, location in enumerate(data['location'].unique())}\n",
    "data['location_encoded'] = data['location'].map(location_mapping)\n",
    "\n",
    "# Assuming 'dependents' is the column name\n",
    "# Replace 'Unknown' values with NaN to exclude them from calculations\n",
    "data['dependents'].replace('Unknown', pd.NA, inplace=True)\n",
    "\n",
    "# Convert the 'dependents' column to numeric\n",
    "data['dependents'] = pd.to_numeric(data['dependents'])\n",
    "\n",
    "# Select the columns of interest\n",
    "selected_columns = ['gender_encoded', 'location_encoded', 'partner', 'dependents', 'senior', 'Tenure', 'package','survey']\n",
    "\n",
    "# Calculate the correlation matrix\n",
    "correlation_matrix = data[selected_columns].corr()\n",
    "\n",
    "# Create a heatmap\n",
    "plt.figure(figsize=(10, 8))\n",
    "sns.heatmap(correlation_matrix, annot=True, cmap='coolwarm', center=0)\n",
    "plt.title('Correlation Heatmap')\n",
    "plt.show()\n"
   ]
  },
  {
   "cell_type": "code",
   "execution_count": 99,
   "id": "e2086596",
   "metadata": {},
   "outputs": [
    {
     "name": "stdout",
     "output_type": "stream",
     "text": [
      "Accuracy of the Random Forest classifier: 0.75\n"
     ]
    }
   ],
   "source": [
    "import pandas as pd\n",
    "from sklearn.model_selection import train_test_split\n",
    "from sklearn.ensemble import RandomForestClassifier\n",
    "from sklearn.metrics import accuracy_score\n",
    "\n",
    "# Replace 'modified_group_data.csv' with the actual path to your modified CSV file\n",
    "csv_file_path = 'modified_group_data.csv'\n",
    "\n",
    "# Read the modified CSV file\n",
    "df = pd.read_csv(csv_file_path)\n",
    "\n",
    "# Define features and target variable\n",
    "features = ['partner', 'senior', 'Tenure', 'survey']\n",
    "target = 'dependents'\n",
    "\n",
    "# Encode categorical features\n",
    "#~df_encoded = pd.get_dummies(df, columns=['partner', 'senior', 'survey'], drop_first=True)\n",
    "\n",
    "# Split data into features and target\n",
    "X = df[features]\n",
    "y = df[target]\n",
    "\n",
    "# Split data into train and test sets\n",
    "X_train, X_test, y_train, y_test = train_test_split(X, y, test_size=0.2, random_state=42)\n",
    "\n",
    "# Initialize and train the Random Forest classifier\n",
    "clf = RandomForestClassifier(random_state=42)\n",
    "clf.fit(X_train, y_train)\n",
    "\n",
    "# Predict on the test set\n",
    "y_pred = clf.predict(X_test)\n",
    "\n",
    "# Calculate accuracy\n",
    "accuracy = accuracy_score(y_test, y_pred)\n",
    "print(f\"Accuracy of the Random Forest classifier: {accuracy:.2f}\")\n"
   ]
  },
  {
   "cell_type": "code",
   "execution_count": 100,
   "id": "253ead46",
   "metadata": {},
   "outputs": [
    {
     "name": "stdout",
     "output_type": "stream",
     "text": [
      "(7350,)\n",
      "0       Unknown\n",
      "1             1\n",
      "2       Unknown\n",
      "3             1\n",
      "4             0\n",
      "         ...   \n",
      "7345          0\n",
      "7346          0\n",
      "7347          1\n",
      "7348          1\n",
      "7349          1\n",
      "Name: dependents, Length: 7350, dtype: object\n"
     ]
    },
    {
     "data": {
      "text/plain": [
       "0       1\n",
       "1       1\n",
       "2       0\n",
       "3       0\n",
       "4       1\n",
       "       ..\n",
       "4603    0\n",
       "4604    0\n",
       "4605    1\n",
       "4606    1\n",
       "4607    1\n",
       "Name: dependents, Length: 4608, dtype: int64"
      ]
     },
     "execution_count": 100,
     "metadata": {},
     "output_type": "execute_result"
    }
   ],
   "source": [
    "print(data1['dependents'].shape)\n",
    "print(data1['dependents'])\n",
    "data['dependents']"
   ]
  },
  {
   "cell_type": "code",
   "execution_count": 101,
   "id": "d9d7891a",
   "metadata": {},
   "outputs": [],
   "source": [
    "import pandas as pd\n",
    "from sklearn.ensemble import RandomForestClassifier\n",
    "\n",
    "# Load your dataset (replace 'Group 2.csv' with your actual file path)\n",
    "data = pd.read_csv('Group 2.csv')\n",
    "data1= pd.read_csv('Group 2.csv')\n",
    "\n",
    "# Prepare the data\n",
    "data['dependents'].replace('Unknown', pd.NA, inplace=True)\n",
    "data['dependents'] = pd.to_numeric(data['dependents'])\n",
    "data['partner'] = data['partner'].astype('category')  # Convert to categorical for modeling\n",
    "data['senior'] = data['senior'].astype('category')    # Convert to categorical for modeling\n",
    "data = data[data['survey'] != 'No reply']\n",
    "# Select features and target variable\n",
    "features = ['partner', 'senior', 'Tenure','survey']\n",
    "target = 'dependents'\n",
    "\n",
    "# Split the data into known and unknown (to predict) subsets\n",
    "known_data = data[data['dependents'].notna()]\n",
    "unknown_data = data[data['dependents'].isna()]\n",
    "\n",
    "# Initialize the RandomForestClassifier\n",
    "model = RandomForestClassifier(random_state=42)\n",
    "\n",
    "# Train the model\n",
    "model.fit(known_data[features], known_data[target])\n",
    "\n",
    "# Predict 'dependents' for the unknown data\n",
    "predicted_dependents = model.predict(unknown_data[features])\n",
    "\n",
    "# Fill in the 'Unknown' values with the predicted values\n",
    "data.loc[data['dependents'].isna(), 'dependents'] = predicted_dependents\n",
    "\n",
    "# Convert back to 'Unknown' for predicted values\n",
    "data['dependents'] = data['dependents'].apply(lambda x: 'Unknown' if pd.isna(x) else x)\n",
    "\n",
    "# Now data contains the 'dependents' column with replaced 'Unknown' values\n"
   ]
  },
  {
   "cell_type": "code",
   "execution_count": 102,
   "id": "fd2aff96",
   "metadata": {},
   "outputs": [
    {
     "name": "stdout",
     "output_type": "stream",
     "text": [
      "(7350,)\n",
      "0       Unknown\n",
      "1             1\n",
      "2       Unknown\n",
      "3             1\n",
      "4             0\n",
      "         ...   \n",
      "7345          0\n",
      "7346          0\n",
      "7347          1\n",
      "7348          1\n",
      "7349          1\n",
      "Name: dependents, Length: 7350, dtype: object\n"
     ]
    },
    {
     "data": {
      "text/plain": [
       "0       1.0\n",
       "1       1.0\n",
       "2       0.0\n",
       "3       1.0\n",
       "4       0.0\n",
       "       ... \n",
       "7345    0.0\n",
       "7346    0.0\n",
       "7347    1.0\n",
       "7348    1.0\n",
       "7349    1.0\n",
       "Name: dependents, Length: 6798, dtype: float64"
      ]
     },
     "execution_count": 102,
     "metadata": {},
     "output_type": "execute_result"
    }
   ],
   "source": [
    "print(data1['dependents'].shape)\n",
    "print(data1['dependents'])\n",
    "data['dependents']"
   ]
  },
  {
   "cell_type": "code",
   "execution_count": 90,
   "id": "a85fff81",
   "metadata": {},
   "outputs": [
    {
     "name": "stdout",
     "output_type": "stream",
     "text": [
      "   Unnamed: 0 customer_id  gender            location  partner dependents  \\\n",
      "0           0       K3713    Male           Hampshire        0    Unknown   \n",
      "1           1       D9048    Male  Greater Manchester        1          1   \n",
      "2           2       K8227  Female      West Yorkshire        0    Unknown   \n",
      "3           3       H3533    Male      Greater London        1          1   \n",
      "4           4       J4501    Male      Greater London        0          0   \n",
      "\n",
      "   senior  Tenure monthly_cost  package  survey      Class  \n",
      "0       0    12.0          NaN        1     6.0   Churn=No  \n",
      "1       0    21.0          NaN        4     6.0   Churn=No  \n",
      "2       0     0.0          NaN        1     4.0  Churn=Yes  \n",
      "3       1    11.0          NaN        2     4.0   Churn=No  \n",
      "4       0     7.0          NaN        4     2.0  Churn=Yes  \n"
     ]
    }
   ],
   "source": [
    "import pandas as pd\n",
    "\n",
    "# Replace 'Group 2.csv' with the actual path to your CSV file\n",
    "csv_file_path = 'Group 2.csv'\n",
    "\n",
    "# Read the CSV file\n",
    "df = pd.read_csv(csv_file_path)\n",
    "\n",
    "# Replace 'No reply' values with NaN in the 'survey' column\n",
    "df['survey'] = df['survey'].replace('No reply', pd.NA)\n",
    "\n",
    "# Convert 'survey' column to numeric, coercing non-numeric values to NaN\n",
    "df['survey'] = pd.to_numeric(df['survey'], errors='coerce')\n",
    "\n",
    "# Calculate the average of valid 'survey' values\n",
    "average_survey = df['survey'].mean()\n",
    "\n",
    "# Replace NaN (previously 'No reply') values with the calculated average\n",
    "df['survey'].fillna(average_survey, inplace=True)\n",
    "\n",
    "# Convert 'Tenure' column to numeric, coercing non-integer values to NaN\n",
    "df['Tenure'] = pd.to_numeric(df['Tenure'], errors='coerce')\n",
    "\n",
    "# Calculate the median of valid 'Tenure' values\n",
    "median_tenure = df['Tenure'].median()\n",
    "\n",
    "# Replace values less than 0 or greater than 25 or non-integer values with the median\n",
    "df['Tenure'] = df['Tenure'].apply(lambda x: median_tenure if (x < 0 or x > 25 or not pd.notna(x)) else x)\n",
    "data=df\n",
    "# Display the first few rows of the modified dataframe\n",
    "print(df.head())\n"
   ]
  },
  {
   "cell_type": "code",
   "execution_count": 103,
   "id": "cb28602b",
   "metadata": {},
   "outputs": [
    {
     "name": "stdout",
     "output_type": "stream",
     "text": [
      "Modified dataframe saved as modified_group_data_PP1.csv\n"
     ]
    }
   ],
   "source": [
    "output_csv_path = 'modified_group_data_PP1.csv'\n",
    "\n",
    "# Save the modified dataframe as a new CSV file\n",
    "data.to_csv(output_csv_path, index=False)\n",
    "\n",
    "print(f\"Modified dataframe saved as {output_csv_path}\")"
   ]
  },
  {
   "cell_type": "code",
   "execution_count": null,
   "id": "d8807842",
   "metadata": {},
   "outputs": [],
   "source": []
  },
  {
   "cell_type": "code",
   "execution_count": 97,
   "id": "4558507c",
   "metadata": {},
   "outputs": [],
   "source": [
    "import pandas as pd\n",
    "\n",
    "# Read the CSV files into pandas DataFrames\n",
    "df_pp1 = pd.read_csv('modified_group_data_PP1.csv')\n",
    "df_pp = pd.read_csv('modified_group_data_PP.csv')\n",
    "\n",
    "# Make sure both DataFrames are sorted by customer_id\n",
    "df_pp1 = df_pp1.sort_values('customer_id')\n",
    "df_pp = df_pp.sort_values('customer_id')\n",
    "\n",
    "# Replace 'dependents' column in df_pp1 with values from df_pp\n",
    "df_pp1['dependents'] = df_pp['dependents']\n",
    "\n",
    "# Save the updated df_pp1 DataFrame to a new CSV file\n",
    "df_pp1.to_csv('updated_modified_group_data_PP1.csv', index=False)\n"
   ]
  },
  {
   "cell_type": "code",
   "execution_count": null,
   "id": "2ba2690a",
   "metadata": {},
   "outputs": [],
   "source": []
  }
 ],
 "metadata": {
  "kernelspec": {
   "display_name": "Python 3 (ipykernel)",
   "language": "python",
   "name": "python3"
  },
  "language_info": {
   "codemirror_mode": {
    "name": "ipython",
    "version": 3
   },
   "file_extension": ".py",
   "mimetype": "text/x-python",
   "name": "python",
   "nbconvert_exporter": "python",
   "pygments_lexer": "ipython3",
   "version": "3.10.9"
  }
 },
 "nbformat": 4,
 "nbformat_minor": 5
}
